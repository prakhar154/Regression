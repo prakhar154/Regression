{
 "cells": [
  {
   "cell_type": "markdown",
   "metadata": {},
   "source": [
    "# Linear Regression "
   ]
  },
  {
   "cell_type": "code",
   "execution_count": 101,
   "metadata": {},
   "outputs": [],
   "source": [
    "import numpy as np\n",
    "import pandas as pd\n",
    "import matplotlib.pyplot as plt"
   ]
  },
  {
   "cell_type": "markdown",
   "metadata": {},
   "source": [
    "training data"
   ]
  },
  {
   "cell_type": "code",
   "execution_count": 123,
   "metadata": {},
   "outputs": [],
   "source": [
    "dx = pd.read_csv(\"training data/Linear_X_Train.csv\")\n",
    "dy = pd.read_csv(\"training data/Linear_Y_Train.csv\")\n",
    "\n",
    "dx = dx.values\n",
    "dy = dy.values\n"
   ]
  },
  {
   "cell_type": "markdown",
   "metadata": {},
   "source": [
    "visualise"
   ]
  },
  {
   "cell_type": "code",
   "execution_count": 124,
   "metadata": {},
   "outputs": [
    {
     "data": {
      "image/png": "[encoded data removed]",
      "text/plain": [
       "<Figure size 432x288 with 1 Axes>"
      ]
     },
     "metadata": {
      "needs_background": "light"
     },
     "output_type": "display_data"
    }
   ],
   "source": [
    "plt.scatter(dx, dy, color = 'orange')\n",
    "plt.show()"
   ]
  },
  {
   "cell_type": "markdown",
   "metadata": {},
   "source": [
    "gradient descent algorithm"
   ]
  },
  {
   "cell_type": "code",
   "execution_count": 125,
   "metadata": {},
   "outputs": [],
   "source": [
    "def hypothesis(x ,theta):\n",
    "    return theta[0] + x*theta[1]"
   ]
  },
  {
   "cell_type": "code",
   "execution_count": 126,
   "metadata": {},
   "outputs": [],
   "source": [
    "def total_error(X,Y,theta):\n",
    "    m = X.shape[0]\n",
    "    e = 0 \n",
    "    for i in range(m):\n",
    "        yi = theta[1]*X[i] + theta[0]\n",
    "        e += (yi-Y[i])**2\n",
    "    \n",
    "    return e"
   ]
  },
  {
   "cell_type": "code",
   "execution_count": 127,
   "metadata": {},
   "outputs": [],
   "source": [
    "def grad(X,Y,theta):\n",
    "    \n",
    "    m = X.shape[0]\n",
    "    grad = np.zeros((2,))\n",
    "    \n",
    "    for i in range(m):\n",
    "        yi = theta[1]*X[i] + theta[0]\n",
    "        grad[0] += 2*(yi - Y[i])\n",
    "        grad[1] += 2*(yi - Y[i])*X[i]\n",
    "    \n",
    "    return grad"
   ]
  },
  {
   "cell_type": "code",
   "execution_count": 128,
   "metadata": {},
   "outputs": [],
   "source": [
    "def gradientDescent(X,Y,learning_rate=0.001,max_steps=80):\n",
    "    theta = np.zeros((2,))\n",
    "    error_list = [] \n",
    "    theta_list = []\n",
    "    \n",
    "    for i in range(max_steps):\n",
    "\n",
    "        g = grad(X,Y,theta) \n",
    "        theta[0] = theta[0] - learning_rate*g[0]\n",
    "        theta[1] = theta[1] - learning_rate*g[1]\n",
    "        error = total_error(X,Y,theta)\n",
    "        error_list.append(error)\n",
    "        theta_list.append(theta)\n",
    "        \n",
    "    return theta,theta_list,error_list"
   ]
  },
  {
   "cell_type": "code",
   "execution_count": 129,
   "metadata": {},
   "outputs": [
    {
     "name": "stdout",
     "output_type": "stream",
     "text": [
      "[ 6.87859511e+67 -5.70761533e+67]\n",
      "[array([9.76314004e+08]), array([4.00615867e+10]), array([1.65819347e+12]), array([6.91875316e+13]), array([2.90975687e+15]), array([1.23318125e+17]), array([5.2649824e+18]), array([2.26353127e+20]), array([9.79459083e+21]), array([4.26351628e+23]), array([1.86592222e+25]), array([8.20586468e+26]), array([3.62432937e+28]), array([1.60687521e+30]), array([7.14795191e+31]), array([3.18887286e+33]), array([1.42619331e+35]), array([6.39224101e+36]), array([2.87029952e+38]), array([1.29087199e+40]), array([5.81324994e+41]), array([2.62087666e+43]), array([1.18274274e+45]), array([5.34177297e+46]), array([2.41422014e+48]), array([1.09173643e+50]), array([4.93933592e+51]), array([2.23560784e+53]), array([1.01221016e+55]), array([4.58426726e+56]), array([2.07669768e+58]), array([9.40944218e+59]), array([4.26410185e+61]), array([1.93264671e+63]), array([8.76049441e+64]), array([3.97143678e+66]), array([1.80053921e+68]), array([8.16370951e+69]), array([3.70166938e+71]), array([1.67852852e+73]), array([7.61162528e+74]), array([3.45176145e+76]), array([1.56536797e+78]), array([7.09908523e+79]), array([3.21956304e+81]), array([1.460154e+83]), array([6.62226269e+84]), array([3.00344144e+86]), array([1.36218513e+88]), array([6.17812386e+89]), array([2.80207674e+91]), array([1.27088394e+93]), array([5.76413062e+94]), array([2.61434832e+96]), array([1.18575379e+98]), array([5.37807423e+99]), array([2.43927107e+101]), array([1.10635417e+103]), array([5.01798071e+104]), array([2.27595874e+106]), array([1.03228656e+108]), array([4.68205561e+109]), array([2.12360239e+111]), array([9.63185932e+112]), array([4.36865043e+114]), array([1.98145703e+116]), array([8.98715411e+117]), array([4.07624106e+119]), array([1.84883284e+121]), array([8.38562683e+122]), array([3.8034131e+124]), array([1.72508911e+126]), array([7.82437443e+127]), array([3.54885099e+129]), array([1.60962958e+131]), array([7.30069419e+132]), array([3.3113295e+134]), array([1.50189877e+136]), array([6.81206754e+137]), array([3.08970663e+139])]\n"
     ]
    }
   ],
   "source": [
    "final_theta,theta_list, err_list = gradientDescent(dx, dy)\n",
    "\n",
    "print(final_theta)\n",
    "print(err_list)"
   ]
  },
  {
   "cell_type": "code",
   "execution_count": 130,
   "metadata": {},
   "outputs": [
    {
     "data": {
      "image/png": "[encoded data removed]",
      "text/plain": [
       "<Figure size 432x288 with 1 Axes>"
      ]
     },
     "metadata": {
      "needs_background": "light"
     },
     "output_type": "display_data"
    }
   ],
   "source": [
    "plt.plot(err_list)\n",
    "plt.show()"
   ]
  },
  {
   "cell_type": "code",
   "execution_count": null,
   "metadata": {},
   "outputs": [],
   "source": []
  }
 ],
 "metadata": {
  "kernelspec": {
   "display_name": "Python 3",
   "language": "python",
   "name": "python3"
  },
  "language_info": {
   "codemirror_mode": {
    "name": "ipython",
    "version": 3
   },
   "file_extension": ".py",
   "mimetype": "text/x-python",
   "name": "python",
   "nbconvert_exporter": "python",
   "pygments_lexer": "ipython3",
   "version": "3.7.3"
  }
 },
 "nbformat": 4,
 "nbformat_minor": 2
}
