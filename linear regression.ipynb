{
 "cells": [
  {
   "cell_type": "markdown",
   "metadata": {},
   "source": [
    "# Linear Regression "
   ]
  },
  {
   "cell_type": "code",
   "execution_count": 4,
   "metadata": {},
   "outputs": [],
   "source": [
    "import numpy as np\n",
    "import pandas as pd\n",
    "import matplotlib.pyplot as plt"
   ]
  },
  {
   "cell_type": "markdown",
   "metadata": {},
   "source": [
    "training data"
   ]
  },
  {
   "cell_type": "code",
   "execution_count": 5,
   "metadata": {},
   "outputs": [],
   "source": [
    "dx = pd.read_csv(\"training data/Linear_X_Train.csv\")\n",
    "dy = pd.read_csv(\"training data/Linear_Y_Train.csv\")\n",
    "\n",
    "x = dx.values\n",
    "y = dy.values\n"
   ]
  },
  {
   "cell_type": "markdown",
   "metadata": {},
   "source": [
    "visualise"
   ]
  },
  {
   "cell_type": "code",
   "execution_count": 6,
   "metadata": {},
   "outputs": [
    {
     "data": {
      "image/png": "[encoded data removed]",
      "text/plain": [
       "<Figure size 432x288 with 1 Axes>"
      ]
     },
     "metadata": {
      "needs_background": "light"
     },
     "output_type": "display_data"
    }
   ],
   "source": [
    "plt.scatter(dx, dy, color = 'orange')\n",
    "plt.show()"
   ]
  },
  {
   "cell_type": "markdown",
   "metadata": {},
   "source": [
    "gradient descent algorithm"
   ]
  },
  {
   "cell_type": "code",
   "execution_count": 7,
   "metadata": {},
   "outputs": [],
   "source": [
    "def hypothesis(x ,theta):\n",
    "    return theta[0] + x*theta[1]"
   ]
  },
  {
   "cell_type": "code",
   "execution_count": 8,
   "metadata": {},
   "outputs": [],
   "source": [
    "def total_error(X,Y,theta):\n",
    "    m = X.shape[0]\n",
    "    e = 0 \n",
    "    for i in range(m):\n",
    "        yi = theta[1]*X[i] + theta[0]\n",
    "        e += (yi-Y[i])**2\n",
    "    \n",
    "    return e"
   ]
  },
  {
   "cell_type": "code",
   "execution_count": 9,
   "metadata": {},
   "outputs": [],
   "source": [
    "def gradient(X,Y,theta):\n",
    "    \n",
    "    m = X.shape[0]\n",
    "    grad = np.zeros((2,))\n",
    "    \n",
    "    for i in range(m):\n",
    "        yi = theta[1]*X[i] + theta[0]\n",
    "        grad[0] += 2*(yi - Y[i])\n",
    "        grad[1] += 2*(yi - Y[i])*X[i]\n",
    "    \n",
    "    return grad"
   ]
  },
  {
   "cell_type": "code",
   "execution_count": 10,
   "metadata": {},
   "outputs": [],
   "source": [
    "def gradientDescent(X,Y,learning_rate=0.0001,max_steps=80):\n",
    "    theta = np.zeros((2,))\n",
    "    error_list = [] \n",
    "    theta_list = []\n",
    "    \n",
    "    for i in range(max_steps):\n",
    "\n",
    "        g = gradient(X,Y,theta) \n",
    "        theta[0] = theta[0] - learning_rate*g[0]\n",
    "        theta[1] = theta[1] - learning_rate*g[1]\n",
    "        error = total_error(X,Y,theta)\n",
    "        error_list.append(error)\n",
    "        theta_list.append(theta)\n",
    "        \n",
    "    return theta,theta_list,error_list"
   ]
  },
  {
   "cell_type": "code",
   "execution_count": 11,
   "metadata": {},
   "outputs": [
    {
     "name": "stdout",
     "output_type": "stream",
     "text": [
      "[ 3.72798828 80.54363185]\n",
      "[array([2382493.41370792]), array([836953.06827479]), array([725142.34505571]), array([716779.05271287]), array([716137.76253881]), array([716087.71728643]), array([716083.76470886]), array([716083.45003047]), array([716083.42484642]), array([716083.42282407]), array([716083.42266132]), array([716083.4226482]), array([716083.42264715]), array([716083.42264706]), array([716083.42264705]), array([716083.42264705]), array([716083.42264705]), array([716083.42264705]), array([716083.42264705]), array([716083.42264705]), array([716083.42264706]), array([716083.42264705]), array([716083.42264705]), array([716083.42264705]), array([716083.42264705]), array([716083.42264705]), array([716083.42264705]), array([716083.42264705]), array([716083.42264705]), array([716083.42264705]), array([716083.42264705]), array([716083.42264705]), array([716083.42264705]), array([716083.42264705]), array([716083.42264705]), array([716083.42264705]), array([716083.42264705]), array([716083.42264705]), array([716083.42264705]), array([716083.42264705]), array([716083.42264705]), array([716083.42264705]), array([716083.42264705]), array([716083.42264705]), array([716083.42264705]), array([716083.42264705]), array([716083.42264705]), array([716083.42264705]), array([716083.42264705]), array([716083.42264705]), array([716083.42264705]), array([716083.42264705]), array([716083.42264705]), array([716083.42264705]), array([716083.42264705]), array([716083.42264705]), array([716083.42264705]), array([716083.42264705]), array([716083.42264705]), array([716083.42264705]), array([716083.42264705]), array([716083.42264705]), array([716083.42264705]), array([716083.42264705]), array([716083.42264705]), array([716083.42264705]), array([716083.42264705]), array([716083.42264705]), array([716083.42264705]), array([716083.42264705]), array([716083.42264705]), array([716083.42264705]), array([716083.42264705]), array([716083.42264705]), array([716083.42264705]), array([716083.42264705]), array([716083.42264705]), array([716083.42264705]), array([716083.42264705]), array([716083.42264705])]\n"
     ]
    }
   ],
   "source": [
    "final_theta,theta_list, err_list = gradientDescent(x, y)\n",
    "\n",
    "print(final_theta)\n",
    "print(err_list)"
   ]
  },
  {
   "cell_type": "code",
   "execution_count": 12,
   "metadata": {},
   "outputs": [
    {
     "data": {
      "image/png": "[encoded data removed]",
      "text/plain": [
       "<Figure size 432x288 with 1 Axes>"
      ]
     },
     "metadata": {
      "needs_background": "light"
     },
     "output_type": "display_data"
    }
   ],
   "source": [
    "plt.plot(err_list)\n",
    "plt.show()"
   ]
  },
  {
   "cell_type": "code",
   "execution_count": 13,
   "metadata": {},
   "outputs": [],
   "source": [
    "x_test = pd.read_csv(\"test data/Linear_X_Test.csv\")"
   ]
  },
  {
   "cell_type": "code",
   "execution_count": 18,
   "metadata": {},
   "outputs": [],
   "source": [
    "y_pred = hypothesis(x_test, final_theta)\n",
    "y_pred = np.array(y_pred)"
   ]
  },
  {
   "cell_type": "code",
   "execution_count": 19,
   "metadata": {},
   "outputs": [
    {
     "data": {
      "image/png": "[encoded data removed]",
      "text/plain": [
       "<Figure size 432x288 with 1 Axes>"
      ]
     },
     "metadata": {
      "needs_background": "light"
     },
     "output_type": "display_data"
    }
   ],
   "source": [
    "plt.plot(x_test, y_pred, color = 'orange', label = 'prediction')\n",
    "plt.scatter(x, y, label = 'training data')\n",
    "plt.legend()\n",
    "plt.show()"
   ]
  },
  {
   "cell_type": "code",
   "execution_count": 21,
   "metadata": {},
   "outputs": [],
   "source": [
    "df = pd.DataFrame(y_pred, columns=[\"y\"])\n",
    "\n",
    "df.to_csv(r\"C:\\Users\\prakhar\\Desktop\\class\\export.csv\", index = False)"
   ]
  },
  {
   "cell_type": "code",
   "execution_count": null,
   "metadata": {},
   "outputs": [],
   "source": []
  },
  {
   "cell_type": "code",
   "execution_count": null,
   "metadata": {},
   "outputs": [],
   "source": []
  }
 ],
 "metadata": {
  "kernelspec": {
   "display_name": "Python 3",
   "language": "python",
   "name": "python3"
  },
  "language_info": {
   "codemirror_mode": {
    "name": "ipython",
    "version": 3
   },
   "file_extension": ".py",
   "mimetype": "text/x-python",
   "name": "python",
   "nbconvert_exporter": "python",
   "pygments_lexer": "ipython3",
   "version": "3.7.3"
  }
 },
 "nbformat": 4,
 "nbformat_minor": 2
}
