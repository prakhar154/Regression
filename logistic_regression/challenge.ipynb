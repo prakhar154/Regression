{
 "cells": [
  {
   "cell_type": "code",
   "execution_count": 1,
   "metadata": {},
   "outputs": [],
   "source": [
    "import numpy as np\n",
    "import pandas as pd\n",
    "import matplotlib.pyplot as plt"
   ]
  },
  {
   "cell_type": "code",
   "execution_count": 64,
   "metadata": {},
   "outputs": [],
   "source": [
    "x_train = pd.read_csv(r\"training_data/Training Data/Logistic_X_Train.csv\").values\n",
    "y_train = pd.read_csv(r\"training_data/Training Data/Logistic_Y_Train.csv\").values\n"
   ]
  },
  {
   "cell_type": "code",
   "execution_count": 100,
   "metadata": {},
   "outputs": [],
   "source": [
    "x_train = (x_train - x_train.mean())/x_train.std()"
   ]
  },
  {
   "cell_type": "code",
   "execution_count": 101,
   "metadata": {},
   "outputs": [],
   "source": [
    "x_test = pd.read_csv(r\"test_data/Test Cases/Logistic_X_Test.csv\")"
   ]
  },
  {
   "cell_type": "code",
   "execution_count": 102,
   "metadata": {},
   "outputs": [],
   "source": [
    "def sigmoid(z):\n",
    "    return 1/(1 + np.exp(-z))"
   ]
  },
  {
   "cell_type": "code",
   "execution_count": 103,
   "metadata": {},
   "outputs": [],
   "source": [
    "def hypothesis(x, theta):\n",
    "    return sigmoid(np.dot(x, theta))"
   ]
  },
  {
   "cell_type": "code",
   "execution_count": 104,
   "metadata": {},
   "outputs": [],
   "source": [
    "def error(x, y, theta):\n",
    "    \n",
    "    m = x.shape[0]\n",
    "    err = 0\n",
    "    \n",
    "    for i in range(m):\n",
    "        hy = hypothesis(x[i], theta)\n",
    "        err += y[i]*np.log2(hy) + (1 - y[i])*np.log2(1 - hy)\n",
    "        \n",
    "    return err/m"
   ]
  },
  {
   "cell_type": "code",
   "execution_count": 105,
   "metadata": {},
   "outputs": [],
   "source": [
    "def get_grad(x, y, theta):\n",
    "    \n",
    "    m = x.shape[0]\n",
    "    grad = np.zeros(theta.shape)\n",
    "    \n",
    "    for i in range(m):\n",
    "        hy = hypothesis(x[i], theta)\n",
    "        x_ = x[i].reshape((-1, 1))\n",
    "        grad += (y[i] - hy)*x_\n",
    "        \n",
    "    return grad/m"
   ]
  },
  {
   "cell_type": "code",
   "execution_count": 106,
   "metadata": {},
   "outputs": [],
   "source": [
    "def gradient(x, y, learning_rate = .01):\n",
    "    \n",
    "    theta = np.zeros((x.shape[1], 1))\n",
    "    \n",
    "    err_list = []\n",
    "    \n",
    "    for i in range(3000):\n",
    "        theta = theta + learning_rate*get_grad(x, y, theta)\n",
    "        e = error(x, y, theta)\n",
    "        err_list.append(e)\n",
    "        \n",
    "    return theta, err_list"
   ]
  },
  {
   "cell_type": "code",
   "execution_count": 107,
   "metadata": {},
   "outputs": [
    {
     "name": "stdout",
     "output_type": "stream",
     "text": [
      "[[-1.47423657]\n",
      " [ 0.48874809]\n",
      " [-2.04240241]]\n"
     ]
    }
   ],
   "source": [
    "fTheta, err_list = gradient(x_train, y_train)\n",
    "print(fTheta)"
   ]
  },
  {
   "cell_type": "code",
   "execution_count": 108,
   "metadata": {},
   "outputs": [
    {
     "data": {
      "image/png": "[encoded data removed]",
      "text/plain": [
       "<Figure size 432x288 with 1 Axes>"
      ]
     },
     "metadata": {
      "needs_background": "light"
     },
     "output_type": "display_data"
    }
   ],
   "source": [
    "plt.plot(err_list)\n",
    "plt.show()"
   ]
  },
  {
   "cell_type": "code",
   "execution_count": 109,
   "metadata": {},
   "outputs": [],
   "source": [
    "y_pred = hypothesis(x_test, fTheta)"
   ]
  },
  {
   "cell_type": "code",
   "execution_count": 110,
   "metadata": {},
   "outputs": [],
   "source": [
    "y_pred = np.array(y_pred)"
   ]
  },
  {
   "cell_type": "code",
   "execution_count": 112,
   "metadata": {},
   "outputs": [],
   "source": [
    "df = pd.DataFrame(y_pred, columns=[\"label\"])\n",
    "\n",
    "df.to_csv(r\"C:\\Users\\prakhar\\Desktop\\class\\export.csv\", index=False)"
   ]
  },
  {
   "cell_type": "code",
   "execution_count": null,
   "metadata": {},
   "outputs": [],
   "source": []
  }
 ],
 "metadata": {
  "kernelspec": {
   "display_name": "Python 3",
   "language": "python",
   "name": "python3"
  },
  "language_info": {
   "codemirror_mode": {
    "name": "ipython",
    "version": 3
   },
   "file_extension": ".py",
   "mimetype": "text/x-python",
   "name": "python",
   "nbconvert_exporter": "python",
   "pygments_lexer": "ipython3",
   "version": "3.7.3"
  }
 },
 "nbformat": 4,
 "nbformat_minor": 2
}
